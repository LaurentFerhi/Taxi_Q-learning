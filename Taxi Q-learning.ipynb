{
 "cells": [
  {
   "cell_type": "markdown",
   "metadata": {},
   "source": [
    "# Taxi Q-learning"
   ]
  },
  {
   "cell_type": "code",
   "execution_count": 1,
   "metadata": {},
   "outputs": [],
   "source": [
    "import numpy as np\n",
    "import gym\n",
    "import random\n",
    "\n",
    "import matplotlib.pyplot as plt\n",
    "%matplotlib inline"
   ]
  },
  {
   "cell_type": "code",
   "execution_count": 16,
   "metadata": {},
   "outputs": [
    {
     "name": "stdout",
     "output_type": "stream",
     "text": [
      "+---------+\n",
      "|R: | :\u001b[43m \u001b[0m:G|\n",
      "| : | : : |\n",
      "| : : : : |\n",
      "| | : | : |\n",
      "|\u001b[34;1mY\u001b[0m| : |\u001b[35mB\u001b[0m: |\n",
      "+---------+\n",
      "\n"
     ]
    }
   ],
   "source": [
    "env = gym.make(\"Taxi-v3\")\n",
    "env.reset\n",
    "env.render()"
   ]
  },
  {
   "cell_type": "markdown",
   "metadata": {},
   "source": [
    "### List of actions and states\n",
    "\n",
    "#### actions:\n",
    "- 1: south\n",
    "- 2: north\n",
    "- 3: east\n",
    "- 4: west\n",
    "- 5: pickup\n",
    "- 6: dropoff\n",
    "\n",
    "#### states:\n",
    "\n",
    "5x5 grid with 4 destinations and 5 passenger locations (4 pickup points + 1 when passenger is in the taxi). Then 5x5x4x5 = 500 possible states"
   ]
  },
  {
   "cell_type": "code",
   "execution_count": 3,
   "metadata": {},
   "outputs": [
    {
     "name": "stdout",
     "output_type": "stream",
     "text": [
      "Number of actions: 6\n",
      "Number of states: 500\n"
     ]
    }
   ],
   "source": [
    "print(\"Number of actions: %d\" % env.action_space.n)\n",
    "print(\"Number of states: %d\" % env.observation_space.n)\n",
    "\n",
    "action_size = env.action_space.n\n",
    "state_size = env.observation_space.n"
   ]
  },
  {
   "cell_type": "code",
   "execution_count": 4,
   "metadata": {},
   "outputs": [
    {
     "name": "stdout",
     "output_type": "stream",
     "text": [
      "[[0. 0. 0. 0. 0. 0.]\n",
      " [0. 0. 0. 0. 0. 0.]\n",
      " [0. 0. 0. 0. 0. 0.]\n",
      " ...\n",
      " [0. 0. 0. 0. 0. 0.]\n",
      " [0. 0. 0. 0. 0. 0.]\n",
      " [0. 0. 0. 0. 0. 0.]]\n"
     ]
    }
   ],
   "source": [
    "qtable = np.zeros((state_size, action_size))\n",
    "print(qtable)"
   ]
  },
  {
   "cell_type": "code",
   "execution_count": 11,
   "metadata": {},
   "outputs": [],
   "source": [
    "total_episodes = 1000\n",
    "max_steps = 99\n",
    "\n",
    "alpha = 0.7 # learning rate\n",
    "gamma = 0.9 # discount rate\n",
    "\n",
    "epsilon = 1.0\n",
    "max_epsilon = 1.0\n",
    "min_epsilon = 0.01\n",
    "decay_rate = 0.01"
   ]
  },
  {
   "cell_type": "code",
   "execution_count": 23,
   "metadata": {},
   "outputs": [
    {
     "name": "stdout",
     "output_type": "stream",
     "text": [
      "training episode 100\n",
      "training episode 200\n",
      "training episode 300\n",
      "training episode 400\n",
      "training episode 500\n",
      "training episode 600\n",
      "training episode 700\n",
      "training episode 800\n",
      "training episode 900\n",
      "training episode 1000\n",
      "[[ 0.          0.          0.          0.          0.          0.        ]\n",
      " [-0.58568214  0.46035238 -0.58568212  0.46035239  1.62261467 -8.53965532]\n",
      " [ 4.348907    5.94323     4.348907    5.94323     7.7147     -3.05677001]\n",
      " ...\n",
      " [ 6.12240481  9.60827283  5.48126593  5.6997104  -3.53161636 -3.52266202]\n",
      " [ 1.62118144  2.91399142  1.60497551  2.9140163  -7.37750831 -7.37745443]\n",
      " [14.29999928 11.86999369 14.3        17.          5.3         5.3       ]]\n"
     ]
    },
    {
     "data": {
      "image/png": "[encoded data removed]",
      "text/plain": [
       "<Figure size 432x288 with 1 Axes>"
      ]
     },
     "metadata": {
      "needs_background": "light"
     },
     "output_type": "display_data"
    }
   ],
   "source": [
    "rewards = []\n",
    "\n",
    "for episode in range(total_episodes):\n",
    "    #Reset environment every time a new episode begins\n",
    "    state = env.reset()\n",
    "    step = 0\n",
    "    done = False\n",
    "    \n",
    "    total_rewards = 0\n",
    "    \n",
    "    for step in range(max_steps):\n",
    "        ### Choose an action in current state\n",
    "        # Generate random number between 0 and 1\n",
    "        exp_exp_tradeoff = random.uniform(0,1)\n",
    "        \n",
    "        '''\n",
    "        If random number > epsilon --> exploitation (select the action with the biggest Q value for this state)\n",
    "        Else, do a random choice --> exploration\n",
    "        ''' \n",
    "        if exp_exp_tradeoff > epsilon:\n",
    "            action = np.argmax(qtable[state, :])\n",
    "        else:\n",
    "            action = env.action_space.sample()\n",
    "        \n",
    "        #Do the action (a) and observe the outcome state (s') and reward (R)\n",
    "        new_state, reward, done, info = env.step(action)\n",
    "        \n",
    "        # Increment total reward\n",
    "        total_rewards += reward\n",
    "    \n",
    "        '''\n",
    "        Update q value for the state based on the Bellman formula\n",
    "        Q(s,a) = Q(s,a) + lr[R(s,a) + gamma * max Q(s',a') - Q(s,a)]\n",
    "        '''\n",
    "        qtable[state, action] = qtable[state, action] + \\\n",
    "            alpha * (reward + gamma * np.max(qtable[new_state, :]) - qtable[state, action])\n",
    "        state = new_state\n",
    "        \n",
    "        if done is True:\n",
    "            break\n",
    "    \n",
    "    # Increment episode\n",
    "    episode += 1\n",
    "    \n",
    "    # Save reward of each step\n",
    "    rewards.append(total_rewards) \n",
    "    \n",
    "    #Reduce epsilon (because we want to reduce the number of exploration as time passes)\n",
    "    epsilon = min_epsilon + (max_epsilon - min_epsilon) * np.exp(-decay_rate * episode)\n",
    "    \n",
    "    if episode%100 == 0:\n",
    "        print('training episode',episode)\n",
    "        \n",
    "# Plot learning graph\n",
    "plt.plot(rewards)\n",
    "print(qtable)"
   ]
  },
  {
   "cell_type": "code",
   "execution_count": 28,
   "metadata": {
    "scrolled": false
   },
   "outputs": [
    {
     "name": "stdout",
     "output_type": "stream",
     "text": [
      "qtable row for given state: [ -2.37440252  -3.82385363  -3.82659074  -3.16366274 -12.13706458\n",
      " -12.13696373]\n",
      "+---------+\n",
      "|R: | : :G|\n",
      "| : |\u001b[43m \u001b[0m: : |\n",
      "| : : : : |\n",
      "| | : | : |\n",
      "|\u001b[34;1mY\u001b[0m| : |\u001b[35mB\u001b[0m: |\n",
      "+---------+\n",
      "\n",
      "qtable row for given state: [ -3.1370428   -3.13696354  -3.13700914  -1.52711391 -11.37440413\n",
      " -11.37440476]\n",
      "+---------+\n",
      "|R: | : :G|\n",
      "| : | : : |\n",
      "| : :\u001b[43m \u001b[0m: : |\n",
      "| | : | : |\n",
      "|\u001b[34;1mY\u001b[0m| : |\u001b[35mB\u001b[0m: |\n",
      "+---------+\n",
      "  (South)\n",
      "qtable row for given state: [ -2.37450143  -2.37440261  -2.37440312  -0.58568212 -10.52711646\n",
      " -10.52711391]\n",
      "+---------+\n",
      "|R: | : :G|\n",
      "| : | : : |\n",
      "| :\u001b[43m \u001b[0m: : : |\n",
      "| | : | : |\n",
      "|\u001b[34;1mY\u001b[0m| : |\u001b[35mB\u001b[0m: |\n",
      "+---------+\n",
      "  (West)\n",
      "qtable row for given state: [ 0.4603532  -1.52711391 -1.52711391 -0.58568212 -9.58568212 -9.58568212]\n",
      "+---------+\n",
      "|R: | : :G|\n",
      "| : | : : |\n",
      "|\u001b[43m \u001b[0m: : : : |\n",
      "| | : | : |\n",
      "|\u001b[34;1mY\u001b[0m| : |\u001b[35mB\u001b[0m: |\n",
      "+---------+\n",
      "  (West)\n",
      "qtable row for given state: [ 1.62261467 -0.58568212  0.4603532   0.46034267 -8.53964683 -8.53964681]\n",
      "+---------+\n",
      "|R: | : :G|\n",
      "| : | : : |\n",
      "| : : : : |\n",
      "|\u001b[43m \u001b[0m| : | : |\n",
      "|\u001b[34;1mY\u001b[0m| : |\u001b[35mB\u001b[0m: |\n",
      "+---------+\n",
      "  (South)\n",
      "qtable row for given state: [ 1.62261467  0.46035233  1.62261467  1.62261467  2.9140163  -7.37738533]\n",
      "+---------+\n",
      "|R: | : :G|\n",
      "| : | : : |\n",
      "| : : : : |\n",
      "| | : | : |\n",
      "|\u001b[34;1m\u001b[43mY\u001b[0m\u001b[0m| : |\u001b[35mB\u001b[0m: |\n",
      "+---------+\n",
      "  (South)\n",
      "qtable row for given state: [ 2.91401593  4.348907    2.9140163   2.91401594 -6.08598376  1.62261363]\n",
      "+---------+\n",
      "|R: | : :G|\n",
      "| : | : : |\n",
      "| : : : : |\n",
      "| | : | : |\n",
      "|\u001b[42mY\u001b[0m| : |\u001b[35mB\u001b[0m: |\n",
      "+---------+\n",
      "  (Pickup)\n",
      "qtable row for given state: [ 2.91401258  5.94323     4.348907    4.348857   -4.65109303 -4.651093  ]\n",
      "+---------+\n",
      "|R: | : :G|\n",
      "| : | : : |\n",
      "| : : : : |\n",
      "|\u001b[42m_\u001b[0m| : | : |\n",
      "|Y| : |\u001b[35mB\u001b[0m: |\n",
      "+---------+\n",
      "  (North)\n",
      "qtable row for given state: [ 4.348907    4.34874924  7.7147      5.94259506 -3.05677004 -3.05677   ]\n",
      "+---------+\n",
      "|R: | : :G|\n",
      "| : | : : |\n",
      "|\u001b[42m_\u001b[0m: : : : |\n",
      "| | : | : |\n",
      "|Y| : |\u001b[35mB\u001b[0m: |\n",
      "+---------+\n",
      "  (North)\n",
      "qtable row for given state: [ 5.94323     5.94323     9.683       5.94322996 -1.28531959 -1.2853    ]\n",
      "+---------+\n",
      "|R: | : :G|\n",
      "| : | : : |\n",
      "| :\u001b[42m_\u001b[0m: : : |\n",
      "| | : | : |\n",
      "|Y| : |\u001b[35mB\u001b[0m: |\n",
      "+---------+\n",
      "  (East)\n",
      "qtable row for given state: [ 7.71467915  7.7147     11.87        7.7147      0.683       0.683     ]\n",
      "+---------+\n",
      "|R: | : :G|\n",
      "| : | : : |\n",
      "| : :\u001b[42m_\u001b[0m: : |\n",
      "| | : | : |\n",
      "|Y| : |\u001b[35mB\u001b[0m: |\n",
      "+---------+\n",
      "  (East)\n",
      "qtable row for given state: [14.3    9.683  9.683  9.683  2.87   2.87 ]\n",
      "+---------+\n",
      "|R: | : :G|\n",
      "| : | : : |\n",
      "| : : :\u001b[42m_\u001b[0m: |\n",
      "| | : | : |\n",
      "|Y| : |\u001b[35mB\u001b[0m: |\n",
      "+---------+\n",
      "  (East)\n",
      "qtable row for given state: [17.   11.87 11.87 14.3   5.3   5.3 ]\n",
      "+---------+\n",
      "|R: | : :G|\n",
      "| : | : : |\n",
      "| : : : : |\n",
      "| | : |\u001b[42m_\u001b[0m: |\n",
      "|Y| : |\u001b[35mB\u001b[0m: |\n",
      "+---------+\n",
      "  (South)\n",
      "qtable row for given state: [17.  14.3 14.3 17.   8.  20. ]\n",
      "+---------+\n",
      "|R: | : :G|\n",
      "| : | : : |\n",
      "| : : : : |\n",
      "| | : | : |\n",
      "|Y| : |\u001b[35m\u001b[42mB\u001b[0m\u001b[0m: |\n",
      "+---------+\n",
      "  (South)\n",
      "qtable row for given state: [17.  14.3 14.3 17.   8.  20. ]\n",
      "+---------+\n",
      "|R: | : :G|\n",
      "| : | : : |\n",
      "| : : : : |\n",
      "| | : | : |\n",
      "|Y| : |\u001b[35m\u001b[34;1m\u001b[43mB\u001b[0m\u001b[0m\u001b[0m: |\n",
      "+---------+\n",
      "  (Dropoff)\n",
      "Score:  7\n"
     ]
    }
   ],
   "source": [
    "state = env.reset()\n",
    "step = 0\n",
    "done = False\n",
    "total_rewards = 0\n",
    "\n",
    "for step in range(max_steps):\n",
    "    print('qtable row for given state:',qtable[state, :])\n",
    "    env.render()\n",
    "    \n",
    "    action = np.argmax(qtable[state, :])\n",
    "    new_state, reward, done, info = env.step(action)\n",
    "    total_rewards += reward\n",
    "    \n",
    "    if done is True:\n",
    "        print('qtable row for given state:',qtable[state, :])\n",
    "        env.render()\n",
    "        print(\"Score: \", total_rewards)\n",
    "        break\n",
    "    state = new_state\n",
    "    \n",
    "env.close()"
   ]
  },
  {
   "cell_type": "code",
   "execution_count": null,
   "metadata": {},
   "outputs": [],
   "source": []
  }
 ],
 "metadata": {
  "kernelspec": {
   "display_name": "Python 3",
   "language": "python",
   "name": "python3"
  },
  "language_info": {
   "codemirror_mode": {
    "name": "ipython",
    "version": 3
   },
   "file_extension": ".py",
   "mimetype": "text/x-python",
   "name": "python",
   "nbconvert_exporter": "python",
   "pygments_lexer": "ipython3",
   "version": "3.7.6"
  }
 },
 "nbformat": 4,
 "nbformat_minor": 4
}
